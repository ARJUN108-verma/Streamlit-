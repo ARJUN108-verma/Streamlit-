{
  "nbformat": 4,
  "nbformat_minor": 0,
  "metadata": {
    "colab": {
      "private_outputs": true,
      "provenance": [],
      "authorship_tag": "ABX9TyMJzBlr3kqDb4DbHdMV42jJ",
      "include_colab_link": true
    },
    "kernelspec": {
      "name": "python3",
      "display_name": "Python 3"
    },
    "language_info": {
      "name": "python"
    }
  },
  "cells": [
    {
      "cell_type": "markdown",
      "metadata": {
        "id": "view-in-github",
        "colab_type": "text"
      },
      "source": [
        "<a href=\"https://colab.research.google.com/github/ARJUN108-verma/Streamlit-/blob/main/Session_State_py.ipynb\" target=\"_parent\"><img src=\"https://colab.research.google.com/assets/colab-badge.svg\" alt=\"Open In Colab\"/></a>"
      ]
    },
    {
      "cell_type": "markdown",
      "source": [
        "#Session state:-"
      ],
      "metadata": {
        "id": "h0R74LCX_Q3F"
      }
    },
    {
      "cell_type": "code",
      "source": [
        "!pip install streamlit"
      ],
      "metadata": {
        "id": "Xe54Qf-r_spo"
      },
      "execution_count": null,
      "outputs": []
    },
    {
      "cell_type": "code",
      "execution_count": null,
      "metadata": {
        "id": "6OWz_Mo_-k8V"
      },
      "outputs": [],
      "source": [
        "import streamlit as st"
      ]
    },
    {
      "cell_type": "code",
      "source": [
        "st.title(\"Nested Buttons Examples\")"
      ],
      "metadata": {
        "id": "vRZJilOi_bfD"
      },
      "execution_count": null,
      "outputs": []
    },
    {
      "cell_type": "code",
      "source": [
        "if 'show_second_button' not in st.session_state:\n",
        "    st.session_state.show_second_button = False\n",
        "if 'second_button_clicked' not in st.session_state:\n",
        "    st.session_state.second_button_clicked = False\n"
      ],
      "metadata": {
        "id": "4l_g-eeCAKQj"
      },
      "execution_count": null,
      "outputs": []
    },
    {
      "cell_type": "code",
      "source": [
        "# First button\n",
        "if st.button(\"First Button\"):\n",
        "    st.session_state.show_second_button = True\n"
      ],
      "metadata": {
        "id": "uu5bFWmIAaIP"
      },
      "execution_count": null,
      "outputs": []
    },
    {
      "cell_type": "code",
      "source": [
        "# Check the state of the first button\n",
        "if st.session_state.show_second_button:\n",
        "    st.write(\"Revealed\")\n",
        "\n",
        "    # Second button\n",
        "    if st.button(\"Second Button\"):\n",
        "        st.session_state.second_button_clicked = True"
      ],
      "metadata": {
        "id": "52Gh6CDDAg_r"
      },
      "execution_count": null,
      "outputs": []
    },
    {
      "cell_type": "code",
      "source": [
        "# Check the state of the second button\n",
        "if st.session_state.second_button_clicked:\n",
        "    st.write(\"Second Button Clicked!\")"
      ],
      "metadata": {
        "id": "M5emzud5Ak9e"
      },
      "execution_count": null,
      "outputs": []
    },
    {
      "cell_type": "code",
      "source": [],
      "metadata": {
        "id": "igKp6nj8A-vM"
      },
      "execution_count": null,
      "outputs": []
    }
  ]
}