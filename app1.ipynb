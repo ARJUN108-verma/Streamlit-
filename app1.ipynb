{
  "nbformat": 4,
  "nbformat_minor": 0,
  "metadata": {
    "colab": {
      "private_outputs": true,
      "provenance": [],
      "authorship_tag": "ABX9TyO4LpzRN+MLNCnCeZnhQt9Z",
      "include_colab_link": true
    },
    "kernelspec": {
      "name": "python3",
      "display_name": "Python 3"
    },
    "language_info": {
      "name": "python"
    }
  },
  "cells": [
    {
      "cell_type": "markdown",
      "metadata": {
        "id": "view-in-github",
        "colab_type": "text"
      },
      "source": [
        "<a href=\"https://colab.research.google.com/github/ARJUN108-verma/Streamlit-/blob/main/app1.ipynb\" target=\"_parent\"><img src=\"https://colab.research.google.com/assets/colab-badge.svg\" alt=\"Open In Colab\"/></a>"
      ]
    },
    {
      "cell_type": "markdown",
      "source": [
        "#app1"
      ],
      "metadata": {
        "id": "-rSKx5plYswm"
      }
    },
    {
      "cell_type": "code",
      "source": [
        "!pip install streamlit"
      ],
      "metadata": {
        "id": "4U1j0W71Y5pc"
      },
      "execution_count": null,
      "outputs": []
    },
    {
      "cell_type": "code",
      "execution_count": null,
      "metadata": {
        "id": "Suf9iiLYYO_k"
      },
      "outputs": [],
      "source": [
        "# Importing necessary libraries\n",
        "from openai import OpenAI\n",
        "import streamlit as st"
      ]
    },
    {
      "cell_type": "code",
      "source": [
        "# Setting up the Streamlit page configuration\n",
        "st.set_page_config(page_title=\"Streamlit Chat\", page_icon=\"💬\")\n",
        "st.title(\"Chatbot\")\n"
      ],
      "metadata": {
        "id": "UHKE5OISYyK6"
      },
      "execution_count": null,
      "outputs": []
    },
    {
      "cell_type": "code",
      "source": [
        "# Initializing the OpenAI client using the API key from Streamlit's secrets\n",
        "client = OpenAI(api_key=st.secrets[\"OPENAI_API_KEY\"])"
      ],
      "metadata": {
        "id": "NcXb1rzWZNUU"
      },
      "execution_count": null,
      "outputs": []
    },
    {
      "cell_type": "code",
      "source": [
        "# Setting up the OpenAI model in session state if it is not already defined\n",
        "if \"openai_model\" not in st.session_state:\n",
        "    st.session_state[\"openai_model\"] = \"gpt-4o\"\n"
      ],
      "metadata": {
        "id": "ju1ok3tEaGZq"
      },
      "execution_count": null,
      "outputs": []
    },
    {
      "cell_type": "code",
      "source": [
        "# Initializing the 'messages' list\n",
        "if \"messages\" not in st.session_state:\n",
        "    st.session_state.messages = [{\"role\": \"system\", \"content\": \"You are a helpful tool that speaks like a pirate\"}]\n"
      ],
      "metadata": {
        "id": "39tUBJyJaPAM"
      },
      "execution_count": null,
      "outputs": []
    },
    {
      "cell_type": "code",
      "source": [
        "# Looping through the 'messages' list to display each message except system messages\n",
        "for message in st.session_state.messages:\n",
        "    if message[\"role\"] != \"system\":\n",
        "        with st.chat_message(message[\"role\"]):\n",
        "            st.markdown(message[\"content\"])\n",
        ""
      ],
      "metadata": {
        "id": "UDB-XXmfaTmM"
      },
      "execution_count": null,
      "outputs": []
    },
    {
      "cell_type": "code",
      "source": [
        "# Input field for the user to send a new message\n",
        "if prompt := st.chat_input(\"Your answer.\"):\n",
        "    # Appending the user's input to the 'messages' list in session state\n",
        "    st.session_state.messages.append({\"role\": \"user\", \"content\": prompt})\n",
        "    # Display the user's message in a chat bubble\n",
        "    with st.chat_message(\"user\"):\n",
        "        st.markdown(prompt)\n",
        "\n",
        "    # Assistant's response\n",
        "    with st.chat_message(\"assistant\"):\n",
        "        stream = client.chat.completions.create(\n",
        "            model=st.session_state[\"openai_model\"],\n",
        "            messages=[\n",
        "                {\"role\": m[\"role\"], \"content\": m[\"content\"]}\n",
        "                for m in st.session_state.messages\n",
        "            ],\n",
        "            stream=True, # This line enables streaming for real-time response\n",
        "        )\n",
        "        # Display the assistant's response as it streams\n",
        "        response = st.write_stream(stream)\n",
        "     # Append the assistant's full response to the 'messages' list\n",
        "    st.session_state.messages.append({\"role\": \"assistant\", \"content\": response})"
      ],
      "metadata": {
        "id": "9zxTGrazaeLk"
      },
      "execution_count": null,
      "outputs": []
    },
    {
      "cell_type": "code",
      "source": [],
      "metadata": {
        "id": "tBrs3Smcat1B"
      },
      "execution_count": null,
      "outputs": []
    }
  ]
}