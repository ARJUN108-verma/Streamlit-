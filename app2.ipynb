{
  "nbformat": 4,
  "nbformat_minor": 0,
  "metadata": {
    "colab": {
      "private_outputs": true,
      "provenance": [],
      "authorship_tag": "ABX9TyM3ByLuze1oL0iGjUQDq39v",
      "include_colab_link": true
    },
    "kernelspec": {
      "name": "python3",
      "display_name": "Python 3"
    },
    "language_info": {
      "name": "python"
    }
  },
  "cells": [
    {
      "cell_type": "markdown",
      "metadata": {
        "id": "view-in-github",
        "colab_type": "text"
      },
      "source": [
        "<a href=\"https://colab.research.google.com/github/ARJUN108-verma/Streamlit-/blob/main/app2.ipynb\" target=\"_parent\"><img src=\"https://colab.research.google.com/assets/colab-badge.svg\" alt=\"Open In Colab\"/></a>"
      ]
    },
    {
      "cell_type": "markdown",
      "source": [
        "#app2"
      ],
      "metadata": {
        "id": "dqT4ibWXc4zF"
      }
    },
    {
      "cell_type": "code",
      "source": [
        "!pip install streamlit"
      ],
      "metadata": {
        "id": "pz_0K-14d92s"
      },
      "execution_count": null,
      "outputs": []
    },
    {
      "cell_type": "code",
      "execution_count": null,
      "metadata": {
        "id": "08e8aQeAczii"
      },
      "outputs": [],
      "source": [
        "from openai import OpenAI\n",
        "import streamlit as st"
      ]
    },
    {
      "cell_type": "code",
      "source": [
        "# Setting up the Streamlit page configuration\n",
        "st.set_page_config(page_title=\"Streamlit Chat\", page_icon=\"💬\")\n",
        "st.title(\"Chatbot\")\n"
      ],
      "metadata": {
        "id": "GvI7LQJpdB4F"
      },
      "execution_count": null,
      "outputs": []
    },
    {
      "cell_type": "code",
      "source": [
        "# Personal Information Section\n",
        "st.subheader('Personal information', divider='rainbow')"
      ],
      "metadata": {
        "id": "XSALqjsedFce"
      },
      "execution_count": null,
      "outputs": []
    },
    {
      "cell_type": "code",
      "source": [
        "# Input fields for collecting user's personal information\n",
        "name = st.text_input(label = \"Name\", max_chars = None, placeholder = \"Enter your name\")"
      ],
      "metadata": {
        "id": "bdkZoFh9dI6k"
      },
      "execution_count": null,
      "outputs": []
    },
    {
      "cell_type": "code",
      "source": [
        "experience = st.text_area(label = \"Expirience\", value = \"\", height = None, max_chars = None, placeholder = \"Describe your experience\")\n"
      ],
      "metadata": {
        "id": "CViDBM1mdMi0"
      },
      "execution_count": null,
      "outputs": []
    },
    {
      "cell_type": "code",
      "source": [
        "skills = st.text_area(label = \"Skills\", value = \"\", height = None, max_chars = None, placeholder = \"List your skills\")"
      ],
      "metadata": {
        "id": "79pshnJFdQZM"
      },
      "execution_count": null,
      "outputs": []
    },
    {
      "cell_type": "code",
      "source": [
        "# Test labels for personal information\n",
        "st.write(f\"**Your Name**: {name}\")\n",
        "st.write(f\"**Your Experience**: {experience}\")\n",
        "st.write(f\"**Your Skills**: {skills}\")\n"
      ],
      "metadata": {
        "id": "mLxU3CtNdU8c"
      },
      "execution_count": null,
      "outputs": []
    },
    {
      "cell_type": "code",
      "source": [
        "# Company and Position Section\n",
        "st.subheader('Company and Position', divider = 'rainbow')\n"
      ],
      "metadata": {
        "id": "7VX8MXs2dYPM"
      },
      "execution_count": null,
      "outputs": []
    },
    {
      "cell_type": "code",
      "source": [
        "#Field for selecting the job level, position and company\n",
        "col1, col2 = st.columns(2)\n",
        "with col1:\n",
        "    level = st.radio(\n",
        "    \"Choose level\",\n",
        "    key=\"visibility\",\n",
        "    options=[\"Junior\", \"Mid-level\", \"Senior\"],\n",
        "    )\n",
        "\n",
        "with col2:\n",
        "    position = st.selectbox(\n",
        "    \"Choose a position\",\n",
        "    (\"Data Scientist\", \"Data engineer\", \"ML Engineer\", \"BI Analyst\", \"Financial Analyst\"))\n",
        "\n",
        "company = st.selectbox(\n",
        "    \"Choose a Company\",\n",
        "    (\"Amazon\", \"Meta\", \"Udemy\", \"365 Company\", \"Nestle\", \"LinkedIn\", \"Spotify\")\n",
        ")"
      ],
      "metadata": {
        "id": "bJnVh7hKdcUd"
      },
      "execution_count": null,
      "outputs": []
    },
    {
      "cell_type": "code",
      "source": [
        "# Test labels for company and position information\n",
        "st.write(f\"**Your information**: {level} {position} at {company}\")"
      ],
      "metadata": {
        "id": "wWiGNtTedgLc"
      },
      "execution_count": null,
      "outputs": []
    },
    {
      "cell_type": "code",
      "source": [
        "# Initializing the OpenAI client using the API key from Streamlit's secrets\n",
        "client = OpenAI(api_key=st.secrets[\"OPENAI_API_KEY\"])"
      ],
      "metadata": {
        "id": "C6Ld26hldjbz"
      },
      "execution_count": null,
      "outputs": []
    },
    {
      "cell_type": "code",
      "source": [
        "# Setting up the OpenAI model in session state if it is not already defined\n",
        "if \"openai_model\" not in st.session_state:\n",
        "    st.session_state[\"openai_model\"] = \"gpt-4o\"\n"
      ],
      "metadata": {
        "id": "k16a1k0sdmVT"
      },
      "execution_count": null,
      "outputs": []
    },
    {
      "cell_type": "code",
      "source": [
        "# Initializing the 'messages' list and adding a system message\n",
        "if \"messages\" not in st.session_state:\n",
        "    st.session_state.messages = [{\"role\":\"system\", \"content\": f\"You are an HR executive that interviews an interviewee called {name} with expirience {experience} and skills {skills}. You should interview him for the position {level} {position} at the company {company}\"}]"
      ],
      "metadata": {
        "id": "2s7BPT2mdqyz"
      },
      "execution_count": null,
      "outputs": []
    },
    {
      "cell_type": "code",
      "source": [
        "# Looping through the 'messages' list to display each message except system messages\n",
        "for message in st.session_state.messages:\n",
        "    if message[\"role\"] != \"system\":\n",
        "        with st.chat_message(message[\"role\"]):\n",
        "            st.markdown(message[\"content\"])"
      ],
      "metadata": {
        "id": "Ftzl7F71duPT"
      },
      "execution_count": null,
      "outputs": []
    },
    {
      "cell_type": "code",
      "source": [
        "# Input field for the user to send a new message\n",
        "if prompt := st.chat_input(\"Your answer.\"):\n",
        "    st.session_state.messages.append({\"role\": \"user\", \"content\": prompt})\n",
        "    with st.chat_message(\"user\"):\n",
        "        st.markdown(prompt)\n",
        "\n",
        "    # Assistant's response\n",
        "    with st.chat_message(\"assistant\"):\n",
        "        stream = client.chat.completions.create(\n",
        "            model=st.session_state[\"openai_model\"],\n",
        "            messages=[\n",
        "                {\"role\": m[\"role\"], \"content\": m[\"content\"]}\n",
        "                for m in st.session_state.messages\n",
        "            ],\n",
        "            stream=True,\n",
        "        )\n",
        "        # Display the assistant's response as it streams\n",
        "        response = st.write_stream(stream)\n",
        "    # Append the assistant's full response to the 'messages' list\n",
        "    st.session_state.messages.append({\"role\": \"assistant\", \"content\": response})"
      ],
      "metadata": {
        "id": "cAmcKeeKdyhs"
      },
      "execution_count": null,
      "outputs": []
    },
    {
      "cell_type": "code",
      "source": [],
      "metadata": {
        "id": "g8Vjz5EPeUWa"
      },
      "execution_count": null,
      "outputs": []
    }
  ]
}