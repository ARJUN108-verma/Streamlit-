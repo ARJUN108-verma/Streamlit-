{
  "nbformat": 4,
  "nbformat_minor": 0,
  "metadata": {
    "colab": {
      "private_outputs": true,
      "provenance": [],
      "authorship_tag": "ABX9TyNkdbCrbSjB4VFyZ0i13s2H",
      "include_colab_link": true
    },
    "kernelspec": {
      "name": "python3",
      "display_name": "Python 3"
    },
    "language_info": {
      "name": "python"
    }
  },
  "cells": [
    {
      "cell_type": "markdown",
      "metadata": {
        "id": "view-in-github",
        "colab_type": "text"
      },
      "source": [
        "<a href=\"https://colab.research.google.com/github/ARJUN108-verma/Streamlit-/blob/main/app3_in_LLM.ipynb\" target=\"_parent\"><img src=\"https://colab.research.google.com/assets/colab-badge.svg\" alt=\"Open In Colab\"/></a>"
      ]
    },
    {
      "cell_type": "markdown",
      "source": [
        "#app3"
      ],
      "metadata": {
        "id": "ZPsH2iL3fV02"
      }
    },
    {
      "cell_type": "code",
      "source": [
        "!pip install streamlit"
      ],
      "metadata": {
        "id": "Iits9x2Qf88k"
      },
      "execution_count": null,
      "outputs": []
    },
    {
      "cell_type": "code",
      "execution_count": null,
      "metadata": {
        "id": "K_pqZ5t2fLZR"
      },
      "outputs": [],
      "source": [
        "from openai import OpenAI\n",
        "import streamlit as st"
      ]
    },
    {
      "cell_type": "code",
      "source": [
        "# Setting up the Streamlit page configuration\n",
        "st.set_page_config(page_title=\"Streamlit Chat\", page_icon=\"💬\")\n",
        "st.title(\"Chatbot\")"
      ],
      "metadata": {
        "id": "66sLZLRVfh7E"
      },
      "execution_count": null,
      "outputs": []
    },
    {
      "cell_type": "code",
      "source": [
        "# Initialize session state variable to track setup completion\n",
        "if \"setup_complete\" not in st.session_state:\n",
        "    st.session_state.setup_complete = False"
      ],
      "metadata": {
        "id": "ZFsujJkRflSn"
      },
      "execution_count": null,
      "outputs": []
    },
    {
      "cell_type": "code",
      "source": [
        "# Helper function to update session state\n",
        "def complete_setup():\n",
        "    st.session_state.setup_complete = True"
      ],
      "metadata": {
        "id": "KrcQQ74qfpbE"
      },
      "execution_count": null,
      "outputs": []
    },
    {
      "cell_type": "code",
      "source": [
        "# Setup stage for collecting user details\n",
        "if not st.session_state.setup_complete:\n",
        "\n",
        "    st.subheader('Personal information', divider='rainbow')\n",
        "\n",
        "    if \"name\" not in st.session_state:\n",
        "        st.session_state[\"name\"] = \"\"\n",
        "    if \"experience\" not in st.session_state:\n",
        "        st.session_state[\"experience\"] = \"\"\n",
        "    if \"skills\" not in st.session_state:\n",
        "        st.session_state[\"skills\"] = \"\"\n",
        "\n",
        "    # Test labels for personal information\n",
        "    st.session_state[\"name\"] = st.text_input(label = \"Name\", max_chars = None, value = st.session_state[\"name\"], placeholder = \"Enter your name\")\n",
        "\n",
        "    st.session_state[\"experience\"] = st.text_area(label = \"Expirience\", value = st.session_state[\"experience\"], height = None, max_chars = None, placeholder = \"Describe your experience\")\n",
        "\n",
        "    st.session_state[\"skills\"] = st.text_area(label = \"Skills\", value = st.session_state[\"skills\"], height = None, max_chars = None, placeholder = \"List your skills\")\n",
        "\n",
        "    st.write(f\"**Your Name**: {st.session_state['name']}\")\n",
        "    st.write(f\"**Your Experience**: {st.session_state['experience']}\")\n",
        "    st.write(f\"**Your Skills**: {st.session_state['skills']}\")\n",
        "\n",
        "    st.subheader('Company and Position', divider = 'rainbow')\n",
        "\n",
        "    if \"level\" not in st.session_state:\n",
        "        st.session_state[\"level\"] = \"Junior\"\n",
        "    if \"position\" not in st.session_state:\n",
        "        st.session_state[\"position\"] = \"Data Scientist\"\n",
        "    if \"company\" not in st.session_state:\n",
        "        st.session_state[\"company\"] = \"Amazon\"\n",
        "\n",
        "    col1, col2 = st.columns(2)\n",
        "    with col1:\n",
        "         st.session_state[\"level\"] = st.radio(\n",
        "        \"Choose level\",\n",
        "        key=\"visibility\",\n",
        "        options=[\"Junior\", \"Mid-level\", \"Senior\"],\n",
        "        )\n",
        "\n",
        "    with col2:\n",
        "        st.session_state[\"position\"] = st.selectbox(\n",
        "        \"Choose a position\",\n",
        "        (\"Data Scientist\", \"Data engineer\", \"ML Engineer\", \"BI Analyst\", \"Financial Analyst\"))\n",
        "\n",
        "    st.session_state[\"company\"] = st.selectbox(\n",
        "        \"Choose a Company\",\n",
        "        (\"Amazon\", \"Meta\", \"Udemy\", \"365 Company\", \"Nestle\", \"LinkedIn\", \"Spotify\")\n",
        "    )\n",
        "\n",
        "    # Test labels for company and position information\n",
        "    st.write(f\"**Your information**: {st.session_state['level']} {st.session_state['position']} at {st.session_state['company']}\")\n",
        "\n",
        "    # A button to complete the setup stage and start the interview\n",
        "    if st.button(\"Start Interview\", on_click=complete_setup):\n",
        "        st.write(\"Setup complete. Starting interview...\")\n"
      ],
      "metadata": {
        "id": "fISZtZ0NfubM"
      },
      "execution_count": null,
      "outputs": []
    },
    {
      "cell_type": "code",
      "source": [
        "# Interview stage\n",
        "if st.session_state.setup_complete:\n",
        "    # Display a welcome message and prompt the user to introduce themselves\n",
        "    st.info(\n",
        "        \"\"\"\n",
        "        Start by introducing yourself.\n",
        "        \"\"\",\n",
        "        icon = \"👋\"\n",
        "    )\n",
        "\n",
        "    # Initialize the OpenAI client using the API key from Streamlit's secrets\n",
        "    client = OpenAI(api_key=st.secrets[\"OPENAI_API_KEY\"])\n",
        "\n",
        "    if \"openai_model\" not in st.session_state:\n",
        "        st.session_state[\"openai_model\"] = \"gpt-4o\"\n",
        "\n",
        "    # Initialize the 'messages' list and add a system message\n",
        "    if \"messages\" not in st.session_state:\n",
        "        st.session_state.messages = [{\n",
        "            \"role\": \"system\",\n",
        "            \"content\": (f\"You are an HR executive that interviews an interviewee called {st.session_state['name']} \"\n",
        "                        f\"with experience {st.session_state['experience']} and skills {st.session_state['skills']}. \"\n",
        "                        f\"You should interview him for the position {st.session_state['level']} {st.session_state['position']} \"\n",
        "                        f\"at the company {st.session_state['company']}\")\n",
        "        }]\n",
        "\n",
        "    # Display chat messages\n",
        "    for message in st.session_state.messages:\n",
        "        if message[\"role\"] != \"system\":\n",
        "            with st.chat_message(message[\"role\"]):\n",
        "                st.markdown(message[\"content\"])\n",
        "\n",
        "    # Input field for the user to send a new message\n",
        "    if prompt := st.chat_input(\"Your answer.\"):\n",
        "        st.session_state.messages.append({\"role\": \"user\", \"content\": prompt})\n",
        "        with st.chat_message(\"user\"):\n",
        "            st.markdown(prompt)\n",
        "\n",
        "        # Assistant's response\n",
        "        with st.chat_message(\"assistant\"):\n",
        "            stream = client.chat.completions.create(\n",
        "                model=st.session_state[\"openai_model\"],\n",
        "                messages=[\n",
        "                    {\"role\": m[\"role\"], \"content\": m[\"content\"]}\n",
        "                    for m in st.session_state.messages\n",
        "                ],\n",
        "                stream=True,\n",
        "            )\n",
        "            # Display the assistant's response as it streams\n",
        "            response = st.write_stream(stream)\n",
        "        # Append the assistant's full response to the 'messages' list\n",
        "        st.session_state.messages.append({\"role\": \"assistant\", \"content\": response})"
      ],
      "metadata": {
        "id": "2iElK__AfzfT"
      },
      "execution_count": null,
      "outputs": []
    },
    {
      "cell_type": "code",
      "source": [],
      "metadata": {
        "id": "UhIBK5OZgNL2"
      },
      "execution_count": null,
      "outputs": []
    }
  ]
}