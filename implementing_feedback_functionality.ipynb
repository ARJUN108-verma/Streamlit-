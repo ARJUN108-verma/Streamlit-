{
  "nbformat": 4,
  "nbformat_minor": 0,
  "metadata": {
    "colab": {
      "private_outputs": true,
      "provenance": [],
      "authorship_tag": "ABX9TyOi9lm3D6VvlVWRbD+YFA8z",
      "include_colab_link": true
    },
    "kernelspec": {
      "name": "python3",
      "display_name": "Python 3"
    },
    "language_info": {
      "name": "python"
    }
  },
  "cells": [
    {
      "cell_type": "markdown",
      "metadata": {
        "id": "view-in-github",
        "colab_type": "text"
      },
      "source": [
        "<a href=\"https://colab.research.google.com/github/ARJUN108-verma/Streamlit-/blob/main/implementing_feedback_functionality.ipynb\" target=\"_parent\"><img src=\"https://colab.research.google.com/assets/colab-badge.svg\" alt=\"Open In Colab\"/></a>"
      ]
    },
    {
      "cell_type": "markdown",
      "source": [
        "#Implementing feedback functionality:-"
      ],
      "metadata": {
        "id": "hBq0J4Duh_MF"
      }
    },
    {
      "cell_type": "code",
      "source": [
        "!pip install streamlit"
      ],
      "metadata": {
        "id": "oXMLT1xgi5Ql"
      },
      "execution_count": null,
      "outputs": []
    },
    {
      "cell_type": "code",
      "source": [
        "!pip install streamlit_js_eval"
      ],
      "metadata": {
        "id": "xzoWCzh-jEAU"
      },
      "execution_count": null,
      "outputs": []
    },
    {
      "cell_type": "code",
      "execution_count": null,
      "metadata": {
        "id": "J-pMAVmUh3Bt"
      },
      "outputs": [],
      "source": [
        "import streamlit as st\n",
        "from openai import OpenAI\n",
        "from streamlit_js_eval import streamlit_js_eval"
      ]
    },
    {
      "cell_type": "code",
      "source": [
        "# Setting up the Streamlit page configuration\n",
        "st.set_page_config(page_title=\"StreamlitChatMessageHistory\", page_icon=\"💬\")\n",
        "st.title(\"Chatbot\")"
      ],
      "metadata": {
        "id": "XGW6HVENiPD8"
      },
      "execution_count": null,
      "outputs": []
    },
    {
      "cell_type": "code",
      "source": [
        "# Initialize session state variables\n",
        "if \"setup_complete\" not in st.session_state:\n",
        "    st.session_state.setup_complete = False\n",
        "if \"user_message_count\" not in st.session_state:\n",
        "    st.session_state.user_message_count = 0\n",
        "if \"feedback_shown\" not in st.session_state:\n",
        "    st.session_state.feedback_shown = False\n",
        "if \"chat_complete\" not in st.session_state:\n",
        "    st.session_state.chat_complete = False\n",
        "if \"messages\" not in st.session_state:\n",
        "    st.session_state.messages = []"
      ],
      "metadata": {
        "id": "w2uyHxnDiTXk"
      },
      "execution_count": null,
      "outputs": []
    },
    {
      "cell_type": "code",
      "source": [
        "# Helper functions to update session state\n",
        "def complete_setup():\n",
        "    st.session_state.setup_complete = True\n",
        "\n",
        "def show_feedback():\n",
        "    st.session_state.feedback_shown = True"
      ],
      "metadata": {
        "id": "-ZbbQajDicIk"
      },
      "execution_count": null,
      "outputs": []
    },
    {
      "cell_type": "code",
      "source": [
        "# Setup stage for collecting user details\n",
        "if not st.session_state.setup_complete:\n",
        "    st.subheader('Personal Information')\n",
        "\n",
        "    # Initialize session state for personal information\n",
        "    if \"name\" not in st.session_state:\n",
        "        st.session_state[\"name\"] = \"\"\n",
        "    if \"experience\" not in st.session_state:\n",
        "        st.session_state[\"experience\"] = \"\"\n",
        "    if \"skills\" not in st.session_state:\n",
        "        st.session_state[\"skills\"] = \"\"\n",
        "\n",
        "\n",
        "    # Get personal information input\n",
        "    st.session_state[\"name\"] = st.text_input(label=\"Name\", value=st.session_state[\"name\"], placeholder=\"Enter your name\", max_chars=40)\n",
        "    st.session_state[\"experience\"] = st.text_area(label=\"Experience\", value=st.session_state[\"experience\"], placeholder=\"Describe your experience\", max_chars=200)\n",
        "    st.session_state[\"skills\"] = st.text_area(label=\"Skills\", value=st.session_state[\"skills\"], placeholder=\"List your skills\", max_chars=200)\n",
        "\n",
        "\n",
        "    # Company and Position Section\n",
        "    st.subheader('Company and Position')\n",
        "\n",
        "    # Initialize session state for company and position information and setting default values\n",
        "    if \"level\" not in st.session_state:\n",
        "        st.session_state[\"level\"] = \"Junior\"\n",
        "    if \"position\" not in st.session_state:\n",
        "        st.session_state[\"position\"] = \"Data Scientist\"\n",
        "    if \"company\" not in st.session_state:\n",
        "        st.session_state[\"company\"] = \"Amazon\"\n",
        "\n",
        "    col1, col2 = st.columns(2)\n",
        "    with col1:\n",
        "        st.session_state[\"level\"] = st.radio(\n",
        "            \"Choose level\",\n",
        "            key=\"visibility\",\n",
        "            options=[\"Junior\", \"Mid-level\", \"Senior\"],\n",
        "            index=[\"Junior\", \"Mid-level\", \"Senior\"].index(st.session_state[\"level\"])\n",
        "        )\n",
        "\n",
        "    with col2:\n",
        "        st.session_state[\"position\"] = st.selectbox(\n",
        "            \"Choose a position\",\n",
        "            (\"Data Scientist\", \"Data Engineer\", \"ML Engineer\", \"BI Analyst\", \"Financial Analyst\"),\n",
        "            index=(\"Data Scientist\", \"Data Engineer\", \"ML Engineer\", \"BI Analyst\", \"Financial Analyst\").index(st.session_state[\"position\"])\n",
        "        )\n",
        "\n",
        "    st.session_state[\"company\"] = st.selectbox(\n",
        "        \"Select a Company\",\n",
        "        (\"Amazon\", \"Meta\", \"Udemy\", \"365 Company\", \"Nestle\", \"LinkedIn\", \"Spotify\"),\n",
        "        index=(\"Amazon\", \"Meta\", \"Udemy\", \"365 Company\", \"Nestle\", \"LinkedIn\", \"Spotify\").index(st.session_state[\"company\"])\n",
        "    )\n",
        "\n",
        "\n",
        "\n",
        "    # Button to complete setup\n",
        "    if st.button(\"Start Interview\", on_click=complete_setup):\n",
        "        st.write(\"Setup complete. Starting interview...\")"
      ],
      "metadata": {
        "id": "0hhjQOEaihjM"
      },
      "execution_count": null,
      "outputs": []
    },
    {
      "cell_type": "code",
      "source": [
        "# Interview phase\n",
        "if st.session_state.setup_complete and not st.session_state.feedback_shown and not st.session_state.chat_complete:\n",
        "\n",
        "    st.info(\n",
        "    \"\"\"\n",
        "    Start by introducing yourself\n",
        "    \"\"\",\n",
        "    icon=\"👋\",\n",
        "    )\n",
        "\n",
        "    # Initialize OpenAI client\n",
        "    client = OpenAI(api_key=st.secrets[\"OPENAI_API_KEY\"])\n",
        "\n",
        "    # Setting OpenAI model if not already initialized\n",
        "    if \"openai_model\" not in st.session_state:\n",
        "        st.session_state[\"openai_model\"] = \"gpt-4o\"\n",
        "\n",
        "    # Initializing the system prompt for the chatbot\n",
        "    if not st.session_state.messages:\n",
        "        st.session_state.messages = [{\n",
        "            \"role\": \"system\",\n",
        "            \"content\": (f\"You are an HR executive that interviews an interviewee called {st.session_state['name']} \"\n",
        "                        f\"with experience {st.session_state['experience']} and skills {st.session_state['skills']}. \"\n",
        "                        f\"You should interview him for the position {st.session_state['level']} {st.session_state['position']} \"\n",
        "                        f\"at the company {st.session_state['company']}\")\n",
        "        }]\n",
        "\n",
        "    # Display chat messages\n",
        "    for message in st.session_state.messages:\n",
        "        if message[\"role\"] != \"system\":\n",
        "            with st.chat_message(message[\"role\"]):\n",
        "                st.markdown(message[\"content\"])\n",
        "\n",
        "    # Handle user input and OpenAI response\n",
        "    # Put a max_chars limit\n",
        "    if st.session_state.user_message_count < 5:\n",
        "        if prompt := st.chat_input(\"Your response\", max_chars=1000):\n",
        "            st.session_state.messages.append({\"role\": \"user\", \"content\": prompt})\n",
        "            with st.chat_message(\"user\"):\n",
        "                st.markdown(prompt)\n",
        "\n",
        "            if st.session_state.user_message_count < 4:\n",
        "                with st.chat_message(\"assistant\"):\n",
        "                    stream = client.chat.completions.create(\n",
        "                        model=st.session_state[\"openai_model\"],\n",
        "                        messages=[\n",
        "                            {\"role\": m[\"role\"], \"content\": m[\"content\"]}\n",
        "                            for m in st.session_state.messages\n",
        "                        ],\n",
        "                        stream=True,\n",
        "                    )\n",
        "                    response = st.write_stream(stream)\n",
        "                st.session_state.messages.append({\"role\": \"assistant\", \"content\": response})\n",
        "\n",
        "            # Increment the user message count\n",
        "            st.session_state.user_message_count += 1\n",
        "\n",
        "    # Check if the user message count reaches 5\n",
        "    if st.session_state.user_message_count >= 5:\n",
        "        st.session_state.chat_complete = True"
      ],
      "metadata": {
        "id": "MQZuIBvtim9D"
      },
      "execution_count": null,
      "outputs": []
    },
    {
      "cell_type": "code",
      "source": [
        "# Show \"Get Feedback\"\n",
        "if st.session_state.chat_complete and not st.session_state.feedback_shown:\n",
        "    if st.button(\"Get Feedback\", on_click=show_feedback):\n",
        "        st.write(\"Fetching feedback...\")"
      ],
      "metadata": {
        "id": "wSPF96SXiqhs"
      },
      "execution_count": null,
      "outputs": []
    },
    {
      "cell_type": "code",
      "source": [
        "# Show feedback screen\n",
        "if st.session_state.feedback_shown:\n",
        "    st.subheader(\"Feedback\")\n",
        "\n",
        "    conversation_history = \"\\n\".join([f\"{msg['role']}: {msg['content']}\" for msg in st.session_state.messages])\n",
        "\n",
        "    # Initialize new OpenAI client instance for feedback\n",
        "    feedback_client = OpenAI(api_key=st.secrets[\"OPENAI_API_KEY\"])\n",
        "\n",
        "    # Generate feedback using the stored messages and write a system prompt for the feedback\n",
        "    feedback_completion = feedback_client.chat.completions.create(\n",
        "        model=\"gpt-4o\",\n",
        "        messages=[\n",
        "            {\"role\": \"system\", \"content\": \"\"\"You are a helpful tool that provides feedback on an interviewee performance.\n",
        "             Before the Feedback give a score of 1 to 10.\n",
        "             Follow this format:\n",
        "             Overal Score: //Your score\n",
        "             Feedback: //Here you put your feedback\n",
        "             Give only the feedback do not ask any additional questins.\n",
        "              \"\"\"},\n",
        "            {\"role\": \"user\", \"content\": f\"This is the interview you need to evaluate. Keep in mind that you are only a tool. And you shouldn't engage in any converstation: {conversation_history}\"}\n",
        "        ]\n",
        "    )\n",
        "\n",
        "    st.write(feedback_completion.choices[0].message.content)\n",
        "\n",
        "    # Button to restart the interview\n",
        "    if st.button(\"Restart Interview\", type=\"primary\"):\n",
        "            streamlit_js_eval(js_expressions=\"parent.window.location.reload()\")"
      ],
      "metadata": {
        "id": "wmXl_M-xivSk"
      },
      "execution_count": null,
      "outputs": []
    },
    {
      "cell_type": "code",
      "source": [],
      "metadata": {
        "id": "3W1EUxrSjRB6"
      },
      "execution_count": null,
      "outputs": []
    }
  ]
}